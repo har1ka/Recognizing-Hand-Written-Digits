{
  "nbformat": 4,
  "nbformat_minor": 0,
  "metadata": {
    "colab": {
      "name": "MNIST Classification.ipynb",
      "provenance": [],
      "collapsed_sections": []
    },
    "kernelspec": {
      "name": "python3",
      "display_name": "Python 3"
    },
    "language_info": {
      "name": "python"
    }
  },
  "cells": [
    {
      "cell_type": "markdown",
      "metadata": {
        "id": "HZxn3_-89Qyz"
      },
      "source": [
        "## Classifying Hand written digits"
      ]
    },
    {
      "cell_type": "code",
      "metadata": {
        "colab": {
          "base_uri": "https://localhost:8080/"
        },
        "id": "YR5KcmABooDt",
        "outputId": "e0cfd774-0072-4fb4-84ed-61dee016b3ae"
      },
      "source": [
        "# Setup\n",
        "import torch\n",
        "import matplotlib.pyplot as plt\n",
        "from torchvision import datasets, transforms\n",
        "from tqdm import trange\n",
        "\n",
        "%matplotlib inline\n",
        "DEVICE = 'cuda' if torch.cuda.is_available() else 'cpu'\n",
        "\n",
        "# Set random seed for reproducibility\n",
        "seed = 9\n",
        "# cuDNN uses nondeterministic algorithms, set some options for reproducibility\n",
        "torch.backends.cudnn.deterministic = True\n",
        "torch.backends.cudnn.benchmark = False\n",
        "torch.manual_seed(seed)"
      ],
      "execution_count": null,
      "outputs": [
        {
          "output_type": "execute_result",
          "data": {
            "text/plain": [
              "<torch._C.Generator at 0x7f1d715b1710>"
            ]
          },
          "metadata": {},
          "execution_count": 128
        }
      ]
    },
    {
      "cell_type": "markdown",
      "metadata": {
        "id": "IGDLct_xooDu"
      },
      "source": [
        "## Get MNIST Data\n",
        "The `torchvision` package provides a wrapper to download MNIST data. The cell below downloads the training and test datasets and creates dataloaders for each."
      ]
    },
    {
      "cell_type": "code",
      "metadata": {
        "id": "Ewj6vdb4ooDv",
        "colab": {
          "base_uri": "https://localhost:8080/"
        },
        "outputId": "bc9dc80b-f5cf-40fa-c764-29dd0314e0b1"
      },
      "source": [
        "# Initial transform (convert to PyTorch Tensor only)\n",
        "transform = transforms.Compose([\n",
        "    transforms.ToTensor(),\n",
        "])\n",
        "\n",
        "train_data = datasets.MNIST('data', train=True, download=True, transform=transform)\n",
        "test_data = datasets.MNIST('data', train=False, download=True, transform=transform)\n",
        "\n",
        "# Use the following lines to check the basic statistics of this dataset\n",
        "# Calculate training data mean and standard deviation to apply normalization to data\n",
        "# train_data.data are of type uint8 (range 0,255) so divide by 255.\n",
        "train_mean = train_data.data.double().mean() / 255.\n",
        "train_std = train_data.data.double().std() / 255.\n",
        "print(f'Train Data: Mean={train_mean}, Std={train_std}')\n",
        "\n",
        "# Optional: Perform normalization of train and test data using calculated training mean and standard deviation\n",
        "# This will convert data to be approximately standard normal\n",
        "transform = transforms.Compose([\n",
        "   transforms.ToTensor(),\n",
        "   transforms.Normalize((train_mean, ), (train_std, ))\n",
        "])\n",
        "\n",
        "train_data.transform = transform\n",
        "test_data.transform = transform\n",
        "\n",
        "batch_size = 64\n",
        "torch.manual_seed(seed)\n",
        "train_loader = torch.utils.data.DataLoader(train_data, batch_size=batch_size, shuffle=True, num_workers=True) \n",
        "test_loader = torch.utils.data.DataLoader(test_data, batch_size=batch_size, shuffle=False, num_workers=True)"
      ],
      "execution_count": null,
      "outputs": [
        {
          "output_type": "stream",
          "name": "stdout",
          "text": [
            "Train Data: Mean=0.1306604762738429, Std=0.30810780717887876\n"
          ]
        }
      ]
    },
    {
      "cell_type": "markdown",
      "metadata": {
        "id": "VYNH2UuDooDw"
      },
      "source": [
        "## Part 0: Inspect dataset (0 points)"
      ]
    },
    {
      "cell_type": "code",
      "metadata": {
        "tags": [],
        "colab": {
          "base_uri": "https://localhost:8080/",
          "height": 644
        },
        "id": "iE8tfOpQooDx",
        "outputId": "3354c114-edf2-4b89-d7c2-b08b81f62fb2"
      },
      "source": [
        "# Randomly sample 20 images of the training dataset\n",
        "# To visualize the i-th sample, use the following code\n",
        "# > plt.subplot(4, 5, i+1)\n",
        "# > plt.imshow(images[i].squeeze(), cmap='gray', interpolation='none')\n",
        "# > plt.title(f'Label: {labels[i]}', fontsize=14)\n",
        "# > plt.axis('off')\n",
        "\n",
        "images, labels = iter(train_loader).next()\n",
        "\n",
        "# Print information and statistics of the first batch of images\n",
        "print(\"Images shape: \", images.shape)\n",
        "print(\"Labels shape: \", labels.shape)\n",
        "print(f'Mean={images.mean()}, Std={images.std()}')\n",
        "\n",
        "fig = plt.figure(figsize=(12, 10))\n",
        "# ------------------\n",
        "for i in range(20):\n",
        "\n",
        "  plt.subplot(4, 5, i+1)\n",
        "  plt.imshow(images[i].squeeze(), cmap='gray', interpolation='none')\n",
        "  plt.title(f'Label: {labels[i]}', fontsize=14)\n",
        "  plt.axis('off')\n",
        "# ------------------"
      ],
      "execution_count": null,
      "outputs": [
        {
          "output_type": "stream",
          "name": "stdout",
          "text": [
            "Images shape:  torch.Size([64, 1, 28, 28])\n",
            "Labels shape:  torch.Size([64])\n",
            "Mean=-0.009814570657908916, Std=0.9916517734527588\n"
          ]
        },
        {
          "output_type": "display_data",
          "data": {
            "image/png": "[encoded data removed]",
            "text/plain": [
              "<Figure size 864x720 with 20 Axes>"
            ]
          },
          "metadata": {
            "needs_background": "light"
          }
        }
      ]
    },
    {
      "cell_type": "markdown",
      "metadata": {
        "id": "a7K-NXw1ooDy"
      },
      "source": [
        "### Implement a two-layer neural network"
      ]
    },
    {
      "cell_type": "code",
      "metadata": {
        "id": "TrKJ-4707YQi"
      },
      "source": [
        "from torch import nn\n",
        "import torch.nn.functional as F"
      ],
      "execution_count": null,
      "outputs": []
    },
    {
      "cell_type": "code",
      "metadata": {
        "tags": [],
        "colab": {
          "base_uri": "https://localhost:8080/"
        },
        "id": "s1heQGJWooDy",
        "outputId": "1c06cf74-1ab0-4031-ee42-feab4f0ee6d8"
      },
      "source": [
        "input_size = 1 * 28 * 28  # input spatial dimension of images\n",
        "hidden_size = 128         # width of hidden layer\n",
        "output_size = 10          # number of output neurons\n",
        "\n",
        "class MNISTClassifierMLP(torch.nn.Module):\n",
        "    \n",
        "    def __init__(self):\n",
        "        \n",
        "        super().__init__()\n",
        "        self.flatten = torch.nn.Flatten(start_dim=1)\n",
        "        # ------------------\n",
        "        self.input_size = input_size\n",
        "\n",
        "\n",
        "        self.fc1 = nn.Linear(input_size,hidden_size)\n",
        "        self.relu = nn.ReLU()\n",
        "        self.fc2 = nn.Linear(hidden_size,10)\n",
        "        # self.softmax = nn.Softmax(dim=1)\n",
        "        # ------------------\n",
        "    \n",
        "    def forward(self, x):\n",
        "        # Input image is of shape [batch_size, 1, 28, 28]\n",
        "        # Need to flatten to [batch_size, 784] before feeding to fc1\n",
        "        x = self.flatten(x)\n",
        "\n",
        "        # ------------------\n",
        "        # x = torch.nn.functional.relu(self.fc1(x))\n",
        "        # x = torch.nn.functional.relu(self.fc2(x))\n",
        "        x = self.fc1(x)\n",
        "        x = self.relu(x)\n",
        "        x = self.fc2(x)\n",
        "        # x = self.relu(x)\n",
        "        # y_output = self.softmax(x)\n",
        "                \n",
        "        return x\n",
        "        # ------------------\n",
        "\n",
        "model = MNISTClassifierMLP().to(DEVICE)\n",
        "\n",
        "# sanity check\n",
        "print(model)\n",
        "\n",
        "from torchsummary import summary\n",
        "summary(model, (1,28,28))"
      ],
      "execution_count": null,
      "outputs": [
        {
          "output_type": "stream",
          "name": "stdout",
          "text": [
            "MNISTClassifierMLP(\n",
            "  (flatten): Flatten(start_dim=1, end_dim=-1)\n",
            "  (fc1): Linear(in_features=784, out_features=128, bias=True)\n",
            "  (relu): ReLU()\n",
            "  (fc2): Linear(in_features=128, out_features=10, bias=True)\n",
            ")\n",
            "----------------------------------------------------------------\n",
            "        Layer (type)               Output Shape         Param #\n",
            "================================================================\n",
            "           Flatten-1                  [-1, 784]               0\n",
            "            Linear-2                  [-1, 128]         100,480\n",
            "              ReLU-3                  [-1, 128]               0\n",
            "            Linear-4                   [-1, 10]           1,290\n",
            "================================================================\n",
            "Total params: 101,770\n",
            "Trainable params: 101,770\n",
            "Non-trainable params: 0\n",
            "----------------------------------------------------------------\n",
            "Input size (MB): 0.00\n",
            "Forward/backward pass size (MB): 0.01\n",
            "Params size (MB): 0.39\n",
            "Estimated Total Size (MB): 0.40\n",
            "----------------------------------------------------------------\n"
          ]
        }
      ]
    },
    {
      "cell_type": "code",
      "metadata": {
        "id": "V66JGDMd7vPK"
      },
      "source": [
        "X = torch.randn(28,28)"
      ],
      "execution_count": null,
      "outputs": []
    },
    {
      "cell_type": "code",
      "metadata": {
        "colab": {
          "base_uri": "https://localhost:8080/"
        },
        "id": "ZnnyGICqp_ql",
        "outputId": "6b130a8c-b5e0-41a0-ae9d-1111a284a381"
      },
      "source": [
        "X.shape"
      ],
      "execution_count": null,
      "outputs": [
        {
          "output_type": "execute_result",
          "data": {
            "text/plain": [
              "torch.Size([28, 28])"
            ]
          },
          "metadata": {},
          "execution_count": 136
        }
      ]
    },
    {
      "cell_type": "code",
      "metadata": {
        "colab": {
          "base_uri": "https://localhost:8080/"
        },
        "id": "lSXfM92Hetya",
        "outputId": "cb79113f-3d12-4e78-dcb2-d30bb3ff642d"
      },
      "source": [
        "model(X.view(-1,784))"
      ],
      "execution_count": null,
      "outputs": [
        {
          "output_type": "execute_result",
          "data": {
            "text/plain": [
              "tensor([[-0.3184,  0.1422, -0.0929, -0.3114, -0.3157,  0.1949, -0.0193, -0.3601,\n",
              "          0.3487, -0.0633]], grad_fn=<AddmmBackward0>)"
            ]
          },
          "metadata": {},
          "execution_count": 137
        }
      ]
    },
    {
      "cell_type": "markdown",
      "metadata": {
        "id": "No2HF4rIooDz"
      },
      "source": [
        "###Implement an optimizer to train the neural net model"
      ]
    },
    {
      "cell_type": "code",
      "metadata": {
        "id": "zwmTrzALooD0"
      },
      "source": [
        "def train_one_epoch(train_loader, model, device, optimizer, log_interval, epoch):\n",
        "    model.train()\n",
        "    losses = []\n",
        "    counter = []\n",
        "    train_num_correct = 0\n",
        "    \n",
        "    for i, (img, label) in enumerate(train_loader):\n",
        "        img, label = img.reshape(-1,28*28).to(device), label.to(device)\n",
        "\n",
        "        # ------------------\n",
        "        output = model(img)\n",
        "\n",
        "        _,pred_lab = torch.max(output.data,1)\n",
        "        train_num_correct += (pred_lab == label.data).sum()\n",
        "\n",
        "        loss = criterion(output,label)\n",
        "\n",
        "        optimizer.zero_grad()\n",
        "        \n",
        "        loss.backward()\n",
        "        optimizer.step()\n",
        "\n",
        "        # ------------------\n",
        "        # Record training loss every log_interval and keep counter of total training images seen\n",
        "        if (i+1) % log_interval == 0:    \n",
        "          losses.append(loss.item())\n",
        "          counter.append(\n",
        "              (i * batch_size) + img.size(0) + epoch * len(train_loader.dataset))\n",
        "\n",
        "    return losses, counter, train_num_correct"
      ],
      "execution_count": null,
      "outputs": []
    },
    {
      "cell_type": "markdown",
      "metadata": {
        "id": "r1Dt80EHooD0"
      },
      "source": [
        "### Run the optimization procedure and test the trained model"
      ]
    },
    {
      "cell_type": "code",
      "metadata": {
        "id": "hucmYdQoooD1"
      },
      "source": [
        "def test_one_epoch(test_loader, model, device):\n",
        "    model.eval()\n",
        "    test_loss = 0\n",
        "    test_num_correct = 0\n",
        "    \n",
        "    with torch.no_grad():\n",
        "        for i,(img, label) in enumerate(test_loader):\n",
        "            \n",
        "          img, label = img.reshape(-1,28*28).to(device), label.to(device)\n",
        "\n",
        "          # ------------------\n",
        "          pred = None # Get index of largest log-probability and use that as prediction\n",
        "\n",
        "          output = model(img)\n",
        "          _,pred_lab = torch.max(output.data,1)\n",
        "          test_num_correct += (pred_lab == label.data).sum()\n",
        "          test_loss += criterion(output, label)\n",
        "\n",
        "    test_loss /= len(test_loader.dataset)\n",
        "    return test_loss, test_num_correct"
      ],
      "execution_count": null,
      "outputs": []
    },
    {
      "cell_type": "markdown",
      "metadata": {
        "id": "bDHlFWKcooD1"
      },
      "source": [
        "Train the model using the cell below. Hyperparameters are given."
      ]
    },
    {
      "cell_type": "code",
      "metadata": {
        "scrolled": true,
        "tags": [],
        "colab": {
          "base_uri": "https://localhost:8080/"
        },
        "id": "9lqcHOlBooD2",
        "outputId": "479fb48b-c8f4-40d2-e6e4-ebf87f940135"
      },
      "source": [
        "# Hyperparameters\n",
        "lr = 0.01\n",
        "max_epochs=10\n",
        "gamma = 0.95\n",
        "\n",
        "# Recording data\n",
        "log_interval = 100\n",
        "\n",
        "# Instantiate optimizer (model was created in previous cell)\n",
        "optimizer = torch.optim.SGD(model.parameters(), lr=lr)\n",
        "\n",
        "train_losses = []\n",
        "test_losses = []\n",
        "test_correct = []\n",
        "train_correct = []\n",
        "train_counter = []\n",
        "test_counter = []\n",
        "\n",
        "# using cross entropy loss to predict  \n",
        "criterion = torch.nn.CrossEntropyLoss()\n",
        "\n",
        "for epoch in trange(max_epochs, leave=True, desc='Epochs'):\n",
        "    train_loss, counter, x= train_one_epoch(train_loader, model, DEVICE, optimizer, log_interval, epoch)\n",
        "    test_loss,test_num_correct = test_one_epoch(test_loader, model, DEVICE)\n",
        "    tr_loss,train_num_correct = test_one_epoch(train_loader,model,DEVICE) # Discussed with Apoorva Jarmale\n",
        "\n",
        "    # Record results\n",
        "    train_losses.extend(train_loss)\n",
        "    train_correct.append(train_num_correct)\n",
        "    train_counter.extend(counter)\n",
        "\n",
        "    test_losses.append(test_loss)\n",
        "    test_correct.append(test_num_correct)\n"
      ],
      "execution_count": null,
      "outputs": [
        {
          "output_type": "stream",
          "name": "stderr",
          "text": [
            "Epochs: 100%|██████████| 10/10 [04:40<00:00, 28.06s/it]\n"
          ]
        }
      ]
    },
    {
      "cell_type": "code",
      "metadata": {
        "colab": {
          "base_uri": "https://localhost:8080/"
        },
        "id": "ZOJIxtHWsRPw",
        "outputId": "e6cca90d-8a23-4aa8-fe50-8527561dcded"
      },
      "source": [
        "print(f\"Train accuracy: {train_correct[-1]/len(train_loader.dataset)}\")\n",
        "print(f\"Test accuracy: {test_correct[-1]/len(test_loader.dataset)}\")"
      ],
      "execution_count": null,
      "outputs": [
        {
          "output_type": "stream",
          "name": "stdout",
          "text": [
            "Train accuracy: 0.9678166508674622\n",
            "Test accuracy: 0.9629999995231628\n"
          ]
        }
      ]
    },
    {
      "cell_type": "code",
      "metadata": {
        "colab": {
          "base_uri": "https://localhost:8080/"
        },
        "id": "4dKK5RdxvCOa",
        "outputId": "78bceb31-19db-439e-95f0-98e53f0dd38a"
      },
      "source": [
        "import numpy\n",
        "print(\"Training Cross Entropy loss:\",numpy.average(train_losses))\n",
        "print(\"Testing Cross Entropy loss:\",numpy.average(test_losses))"
      ],
      "execution_count": null,
      "outputs": [
        {
          "output_type": "stream",
          "name": "stdout",
          "text": [
            "Training Cross Entropy loss: 0.22784689706232814\n",
            "Testing Cross Entropy loss: 0.0030048494\n"
          ]
        }
      ]
    },
    {
      "cell_type": "code",
      "metadata": {
        "colab": {
          "base_uri": "https://localhost:8080/"
        },
        "id": "WSlxHIQYO1s5",
        "outputId": "1a874aff-f62f-4935-a240-4545567699ac"
      },
      "source": [
        "len(train_counter)"
      ],
      "execution_count": null,
      "outputs": [
        {
          "output_type": "execute_result",
          "data": {
            "text/plain": [
              "90"
            ]
          },
          "metadata": {},
          "execution_count": 142
        }
      ]
    },
    {
      "cell_type": "code",
      "metadata": {
        "colab": {
          "base_uri": "https://localhost:8080/",
          "height": 545
        },
        "id": "IDhvSJffooD2",
        "outputId": "02af9c04-7a34-4d4b-c7ee-955ca7cf5c27"
      },
      "source": [
        "# 1. Draw training loss curve\n",
        "fig = plt.figure(figsize=(12,8))\n",
        "plt.plot(train_counter, train_losses, label='Train loss')\n",
        "plt.plot([i * len(train_loader.dataset) for i in range(1, max_epochs + 1)], \n",
        "         test_losses, label='Test loss', marker='o')\n",
        "plt.xlim(left=0)\n",
        "plt.ylim(bottom=0)\n",
        "plt.title('Loss curve', fontsize=24)\n",
        "plt.xlabel('Number of training examples seen', fontsize=16)\n",
        "plt.ylabel('NLL', fontsize=16)\n",
        "plt.legend(loc='upper right', fontsize=14)"
      ],
      "execution_count": null,
      "outputs": [
        {
          "output_type": "execute_result",
          "data": {
            "text/plain": [
              "<matplotlib.legend.Legend at 0x7f1d6d54d9d0>"
            ]
          },
          "metadata": {},
          "execution_count": 143
        },
        {
          "output_type": "display_data",
          "data": {
            "image/png": "[encoded data removed]",
            "text/plain": [
              "<Figure size 864x576 with 1 Axes>"
            ]
          },
          "metadata": {
            "needs_background": "light"
          }
        }
      ]
    },
    {
      "cell_type": "code",
      "metadata": {
        "id": "A50mM0WbooD3",
        "colab": {
          "base_uri": "https://localhost:8080/",
          "height": 631
        },
        "outputId": "9b29f7a0-05d5-40a4-88e4-d10a1378a1c1"
      },
      "source": [
        "# 2. Show the predictions of the first 20 images of the test dataset\n",
        "images, labels = iter(test_loader).next()\n",
        "images, labels = images.to(DEVICE), labels.to(DEVICE)\n",
        "\n",
        "output = model(images)\n",
        "pred = output.argmax(dim=1)\n",
        "\n",
        "fig = plt.figure(figsize=(12, 11))\n",
        "\n",
        "# ------------------\n",
        "for i in range(20):\n",
        "\n",
        "  plt.subplot(4, 5, i+1)\n",
        "  plt.imshow(images[i].squeeze(), cmap='gray', interpolation='none')\n",
        "  plt.title(f'Label: {pred[i]}', fontsize=14)\n",
        "  plt.axis('off')\n",
        "# ------------------\n",
        "\n",
        "# ------------------"
      ],
      "execution_count": null,
      "outputs": [
        {
          "output_type": "display_data",
          "data": {
            "image/png": "[encoded data removed]",
            "text/plain": [
              "<Figure size 864x792 with 20 Axes>"
            ]
          },
          "metadata": {
            "needs_background": "light"
          }
        }
      ]
    },
    {
      "cell_type": "code",
      "metadata": {
        "colab": {
          "base_uri": "https://localhost:8080/",
          "height": 648
        },
        "id": "vEbcM0CnkeAf",
        "outputId": "3f2667f4-4153-4d46-fdb7-7a640c85ef33"
      },
      "source": [
        "# 3. Get 20 incorrect predictions in test dataset\n",
        "\n",
        "incorrect_imgs=[]\n",
        "incorrect_preds=[]\n",
        "incorrect_labels=[]\n",
        "\n",
        "with torch.no_grad():\n",
        "  img, label = iter(test_loader).next()\n",
        "  img, label = img.reshape(-1,28*28).to(DEVICE), label.to(DEVICE)\n",
        "\n",
        "  # ------------------\n",
        "\n",
        "  output = model(images)\n",
        "  for i, (img, label) in enumerate(test_loader):\n",
        "      output = model(img)\n",
        "      # pred = None # Get index of largest log-probability and use that as prediction\n",
        "      for idx, i in enumerate(output):\n",
        "        pred=torch.argmax(i)\n",
        "        if  pred != label[idx]:\n",
        "          incorrect_imgs.append(img[idx]) #reference: https://github.com/ScarletMcLearn/DataScience/blob/master/Deep%20Learning/Image%20Classification/PyTorch%20-%20Fashion%20-%20MNIST%20-%203.ipynb\n",
        "          incorrect_preds.append(pred)\n",
        "          incorrect_labels.append(label[idx])\n",
        "\n",
        "# Show the first 20 wrong predictions in test set\n",
        "fig = plt.figure(figsize=(12, 11))\n",
        "for i in range(20):\n",
        "    plt.subplot(4, 5, i+1)\n",
        "    plt.imshow(incorrect_imgs[i].squeeze().cpu().numpy(), cmap='gray', interpolation='none')\n",
        "    plt.title(f'Prediction: {incorrect_preds[i].item()}\\nLabel: {incorrect_labels[i].item()}', fontsize=14)\n",
        "    plt.axis('off')\n"
      ],
      "execution_count": null,
      "outputs": [
        {
          "output_type": "display_data",
          "data": {
            "image/png": "[encoded data removed]",
            "text/plain": [
              "<Figure size 864x792 with 20 Axes>"
            ]
          },
          "metadata": {
            "needs_background": "light"
          }
        }
      ]
    },
    {
      "cell_type": "markdown",
      "metadata": {
        "id": "5KlCqv0uou0O"
      },
      "source": [
        "Before normalization:\n",
        "Train Accuracy was ~92.8% and test accuracy was ~92.7%"
      ]
    },
    {
      "cell_type": "markdown",
      "metadata": {
        "id": "us6C1S84otbO"
      },
      "source": [
        "### Implement a convolutional neural network to recognize hand-written digits"
      ]
    },
    {
      "cell_type": "code",
      "metadata": {
        "colab": {
          "base_uri": "https://localhost:8080/"
        },
        "id": "9jxkB2O5otbR",
        "outputId": "d2772dc4-f108-4c09-9b8c-72d7b0a0cdaa"
      },
      "source": [
        "# Setup\n",
        "import torch\n",
        "import matplotlib.pyplot as plt\n",
        "from torchvision import datasets, transforms\n",
        "from tqdm import trange\n",
        "\n",
        "%matplotlib inline\n",
        "DEVICE = 'cuda' if torch.cuda.is_available() else 'cpu'\n",
        "\n",
        "# Set random seed for reproducibility\n",
        "seed = 18\n",
        "# cuDNN uses nondeterministic algorithms, set some options for reproducibility\n",
        "torch.backends.cudnn.deterministic = True\n",
        "torch.backends.cudnn.benchmark = False\n",
        "torch.manual_seed(seed)"
      ],
      "execution_count": null,
      "outputs": [
        {
          "output_type": "execute_result",
          "data": {
            "text/plain": [
              "<torch._C.Generator at 0x7f2ce92b2610>"
            ]
          },
          "metadata": {},
          "execution_count": 1
        }
      ]
    },
    {
      "cell_type": "code",
      "metadata": {
        "colab": {
          "base_uri": "https://localhost:8080/",
          "height": 436,
          "referenced_widgets": [
            "3031cf5c430e4f7f9b7e2ae40aa29d33",
            "c8cfe29d9be64269a7269b4c59ecba9a",
            "810826426c3b430ca75deb3cfdc9d9ce",
            "3424dc431b4e4925804800bebcfe4b0a",
            "8b7511a9fdf64d73b318aa90a8b7e0e1",
            "2bfa61ec794b48ce94e1e3dbf13d850c",
            "6d30cdb42bea4b80b3de9c13abcf07b9",
            "6d07969048094f22b9839e4357ca79f3",
            "0dc27267665043839aeee3f79448a904",
            "ad0d36cbbc9a4d5fa92cb34070574652",
            "c17768c457d1460798e75cc3d96e6c98",
            "67d9b96b80d141fba1d826fb5a44e44b",
            "60866c4d83a84473b1580b51e2e6c4b7",
            "156cb59128054d3482402e52c6db0a0a",
            "0865ca984b68413ebfd9f281fc18c435",
            "238a7cdfe41949f78834ff33eed5a16d",
            "b4b761cc97c64c1abe189b95dff28bff",
            "2dc46f7992ec4444910a833927db2a91",
            "1d5cef7c4a244402a205b3df7b988f62",
            "519cd5052c3a4cbd81ae772b51184766",
            "1af65e29c4c84ed68ad22e770291e0d0",
            "24a4f9ccddc34e229e63d5389aef21d6",
            "86979ddd11f645b2a3f9bdb90ed7fb1d",
            "e5f282dfa19a47678042a5246ead7352",
            "f32537b6450a48b888be69d89b7c6bef",
            "d84cca58bc434ea69a426ca4f9efafce",
            "90476547fb6643b8818c626c71e2662a",
            "f3043fe0478c4c18951203fa5791b1ba",
            "2732411f0bb541ebb7dca7796697a45f",
            "3495245f937b43a5889f3bcff8c2f609",
            "bc67a41aac1046039fe521099a40b94b",
            "09c6e49a266c4523a71925633082be55",
            "e7dc8e8141204a99ba65b3f7446a5a01",
            "a53de020c042495e9d39fe3edecce395",
            "fd8963b329914c54baa8e93b4b3d1447",
            "0b667b7ec2e94e47bf5de3b14e7374ff",
            "b6214dbbcd7449858e793d11432fc602",
            "970d821ddccc4b019d74c342278a85a1",
            "8d185fcb5bfa4189a48bca53c50a8a7a",
            "e9924ceba213453abf480c035a48dc98",
            "ceae47bd5da74a0cb4d70b96f77af44a",
            "622d1b650e77438b9f94d6b04a5ef71b",
            "d52fb20fc59248c79b4f8ddd786392c0",
            "783eea58d9db45c4aba0461aa31ee899"
          ]
        },
        "id": "R7XZwsdZotbS",
        "outputId": "d51bb66d-763f-4ff2-80c8-00e6d180bcb8"
      },
      "source": [
        "# Initial transform (convert to PyTorch Tensor only)\n",
        "transform = transforms.Compose([\n",
        "    transforms.ToTensor(),\n",
        "])\n",
        "\n",
        "train_data = datasets.MNIST('data', train=True, download=True, transform=transform)\n",
        "test_data = datasets.MNIST('data', train=False, download=True, transform=transform)\n",
        "\n",
        "## Use the following lines to check the basic statistics of this dataset\n",
        "# Calculate training data mean and standard deviation to apply normalization to data\n",
        "# train_data.data are of type uint8 (range 0,255) so divide by 255.\n",
        "# train_mean = train_data.data.double().mean() / 255.\n",
        "# train_std = train_data.data.double().std() / 255.\n",
        "# print(f'Train Data: Mean={train_mean}, Std={train_std}')\n",
        "\n",
        "## Optional: Perform normalization of train and test data using calculated training mean and standard deviation\n",
        "# This will convert data to be approximately standard normal\n",
        "#transform = transforms.Compose([\n",
        "#    transforms.ToTensor(),\n",
        "#    transforms.Normalize((train_mean, ), (train_std, ))\n",
        "#])\n",
        "\n",
        "train_data.transform = transform\n",
        "test_data.transform = transform\n",
        "\n",
        "batch_size = 64\n",
        "torch.manual_seed(seed)\n",
        "train_loader = torch.utils.data.DataLoader(train_data, batch_size=batch_size, shuffle=True, num_workers=True) \n",
        "test_loader = torch.utils.data.DataLoader(test_data, batch_size=batch_size, shuffle=False, num_workers=True)"
      ],
      "execution_count": null,
      "outputs": [
        {
          "output_type": "stream",
          "name": "stdout",
          "text": [
            "Downloading http://yann.lecun.com/exdb/mnist/train-images-idx3-ubyte.gz\n",
            "Downloading http://yann.lecun.com/exdb/mnist/train-images-idx3-ubyte.gz to data/MNIST/raw/train-images-idx3-ubyte.gz\n"
          ]
        },
        {
          "output_type": "display_data",
          "data": {
            "application/vnd.jupyter.widget-view+json": {
              "model_id": "3031cf5c430e4f7f9b7e2ae40aa29d33",
              "version_minor": 0,
              "version_major": 2
            },
            "text/plain": [
              "  0%|          | 0/9912422 [00:00<?, ?it/s]"
            ]
          },
          "metadata": {}
        },
        {
          "output_type": "stream",
          "name": "stdout",
          "text": [
            "Extracting data/MNIST/raw/train-images-idx3-ubyte.gz to data/MNIST/raw\n",
            "\n",
            "Downloading http://yann.lecun.com/exdb/mnist/train-labels-idx1-ubyte.gz\n",
            "Downloading http://yann.lecun.com/exdb/mnist/train-labels-idx1-ubyte.gz to data/MNIST/raw/train-labels-idx1-ubyte.gz\n"
          ]
        },
        {
          "output_type": "display_data",
          "data": {
            "application/vnd.jupyter.widget-view+json": {
              "model_id": "67d9b96b80d141fba1d826fb5a44e44b",
              "version_minor": 0,
              "version_major": 2
            },
            "text/plain": [
              "  0%|          | 0/28881 [00:00<?, ?it/s]"
            ]
          },
          "metadata": {}
        },
        {
          "output_type": "stream",
          "name": "stdout",
          "text": [
            "Extracting data/MNIST/raw/train-labels-idx1-ubyte.gz to data/MNIST/raw\n",
            "\n",
            "Downloading http://yann.lecun.com/exdb/mnist/t10k-images-idx3-ubyte.gz\n",
            "Downloading http://yann.lecun.com/exdb/mnist/t10k-images-idx3-ubyte.gz to data/MNIST/raw/t10k-images-idx3-ubyte.gz\n"
          ]
        },
        {
          "output_type": "display_data",
          "data": {
            "application/vnd.jupyter.widget-view+json": {
              "model_id": "86979ddd11f645b2a3f9bdb90ed7fb1d",
              "version_minor": 0,
              "version_major": 2
            },
            "text/plain": [
              "  0%|          | 0/1648877 [00:00<?, ?it/s]"
            ]
          },
          "metadata": {}
        },
        {
          "output_type": "stream",
          "name": "stdout",
          "text": [
            "Extracting data/MNIST/raw/t10k-images-idx3-ubyte.gz to data/MNIST/raw\n",
            "\n",
            "Downloading http://yann.lecun.com/exdb/mnist/t10k-labels-idx1-ubyte.gz\n",
            "Downloading http://yann.lecun.com/exdb/mnist/t10k-labels-idx1-ubyte.gz to data/MNIST/raw/t10k-labels-idx1-ubyte.gz\n"
          ]
        },
        {
          "output_type": "display_data",
          "data": {
            "application/vnd.jupyter.widget-view+json": {
              "model_id": "a53de020c042495e9d39fe3edecce395",
              "version_minor": 0,
              "version_major": 2
            },
            "text/plain": [
              "  0%|          | 0/4542 [00:00<?, ?it/s]"
            ]
          },
          "metadata": {}
        },
        {
          "output_type": "stream",
          "name": "stdout",
          "text": [
            "Extracting data/MNIST/raw/t10k-labels-idx1-ubyte.gz to data/MNIST/raw\n",
            "\n"
          ]
        }
      ]
    },
    {
      "cell_type": "code",
      "metadata": {
        "id": "KcbFNYaT0Yqq"
      },
      "source": [
        "import numpy\n",
        "import torch.nn.functional as F"
      ],
      "execution_count": null,
      "outputs": []
    },
    {
      "cell_type": "code",
      "metadata": {
        "tags": [],
        "colab": {
          "base_uri": "https://localhost:8080/"
        },
        "id": "WX1x_bPRotbU",
        "outputId": "665c47a1-ac7e-4286-aaf7-7d850b5da529"
      },
      "source": [
        "input_size = 1 * 28 * 28  # input spatial dimension of images\n",
        "hidden_size = 128         # width of hidden layer\n",
        "output_size = 10          # number of output neurons\n",
        "\n",
        "# [(n+2p-k)/s]+1\n",
        "class CNN(torch.nn.Module):\n",
        "    \n",
        "    def __init__(self):\n",
        "        \n",
        "        super().__init__()\n",
        "        self.flatten = torch.nn.Flatten(start_dim=1)\n",
        "        # ------------------\n",
        "        self.conv1 = torch.nn.Sequential(\n",
        "            torch.nn.Conv2d(in_channels = 1,out_channels = 10,kernel_size = 5,stride = 1,padding = 0), # first convolutional layer\n",
        "            torch.nn.ReLU(),\n",
        "            torch.nn.MaxPool2d(kernel_size=2))\n",
        "\n",
        "        self.conv2 = torch.nn.Sequential(\n",
        "            torch.nn.Conv2d(in_channels = 10,out_channels = 20,kernel_size = 5,stride = 1,padding = 0), # second convolutional layer\n",
        "            torch.nn.ReLU(),\n",
        "            torch.nn.MaxPool2d(kernel_size=2))\n",
        "\n",
        "        self.fc = torch.nn.Linear(int(20*((((numpy.sqrt(input_size)+2*(0)-5)+1)/2)+2*(0)-5+1)/2*((((numpy.sqrt(input_size)+2*(0)-5)+1)/2)+2*(0)-5+1)/2),10) # third fully-connected layer\n",
        "        self.softmax = torch.nn.LogSoftmax(dim=1)\n",
        "        # ------------------\n",
        "    \n",
        "    def forward(self, x):\n",
        "        # Input image is of shape [batch_size, 1, 28, 28]\n",
        "        # Need to flatten to [batch_size, 784] before feeding to fc1\n",
        "        # x = self.flatten(x)\n",
        "        \n",
        "        # ------------------\n",
        "        x = self.conv1(x)\n",
        "        x = self.conv2(x)\n",
        "\n",
        "        x = (x.reshape(-1,int(20*((((numpy.sqrt(input_size)+2*(0)-5)+1)/2)+2*(0)-5+1)/2*((((numpy.sqrt(input_size)+2*(0)-5)+1)/2)+2*(0)-5+1)/2)))\n",
        "        x = (self.fc(x))\n",
        "        # x = self.act(x)\n",
        "        x = self.softmax(x)\n",
        "\n",
        "        y_output = x\n",
        "        \n",
        "        return y_output\n",
        "        # ------------------\n",
        "\n",
        "model = CNN().to(DEVICE)\n",
        "\n",
        "# sanity check\n",
        "print(model)\n",
        "from torchsummary import summary\n",
        "summary(model, (1,28,28))"
      ],
      "execution_count": null,
      "outputs": [
        {
          "output_type": "stream",
          "name": "stdout",
          "text": [
            "CNN(\n",
            "  (flatten): Flatten(start_dim=1, end_dim=-1)\n",
            "  (conv1): Sequential(\n",
            "    (0): Conv2d(1, 10, kernel_size=(5, 5), stride=(1, 1))\n",
            "    (1): ReLU()\n",
            "    (2): MaxPool2d(kernel_size=2, stride=2, padding=0, dilation=1, ceil_mode=False)\n",
            "  )\n",
            "  (conv2): Sequential(\n",
            "    (0): Conv2d(10, 20, kernel_size=(5, 5), stride=(1, 1))\n",
            "    (1): ReLU()\n",
            "    (2): MaxPool2d(kernel_size=2, stride=2, padding=0, dilation=1, ceil_mode=False)\n",
            "  )\n",
            "  (fc): Linear(in_features=320, out_features=10, bias=True)\n",
            "  (softmax): LogSoftmax(dim=1)\n",
            ")\n",
            "----------------------------------------------------------------\n",
            "        Layer (type)               Output Shape         Param #\n",
            "================================================================\n",
            "            Conv2d-1           [-1, 10, 24, 24]             260\n",
            "              ReLU-2           [-1, 10, 24, 24]               0\n",
            "         MaxPool2d-3           [-1, 10, 12, 12]               0\n",
            "            Conv2d-4             [-1, 20, 8, 8]           5,020\n",
            "              ReLU-5             [-1, 20, 8, 8]               0\n",
            "         MaxPool2d-6             [-1, 20, 4, 4]               0\n",
            "            Linear-7                   [-1, 10]           3,210\n",
            "        LogSoftmax-8                   [-1, 10]               0\n",
            "================================================================\n",
            "Total params: 8,490\n",
            "Trainable params: 8,490\n",
            "Non-trainable params: 0\n",
            "----------------------------------------------------------------\n",
            "Input size (MB): 0.00\n",
            "Forward/backward pass size (MB): 0.12\n",
            "Params size (MB): 0.03\n",
            "Estimated Total Size (MB): 0.16\n",
            "----------------------------------------------------------------\n"
          ]
        }
      ]
    },
    {
      "cell_type": "markdown",
      "metadata": {
        "id": "TD0fPuf_otbW"
      },
      "source": [
        "Write a method called `train_one_epoch` that runs one step using the optimizer."
      ]
    },
    {
      "cell_type": "code",
      "metadata": {
        "id": "UJA3YLE0otbX"
      },
      "source": [
        "def train_one_epoch(train_loader, model, device, optimizer, log_interval, epoch):\n",
        "    model.train()\n",
        "    losses = []\n",
        "    counter = []\n",
        "    train_num_correct = 0\n",
        "    \n",
        "    for i, (img, label) in enumerate(train_loader):\n",
        "        img, label = img.to(device), label.to(device)\n",
        "\n",
        "        # ------------------\n",
        "        output = model(img)\n",
        "\n",
        "        _,pred_lab = torch.max(output.data,1)\n",
        "        train_num_correct += (pred_lab == label.data).sum()\n",
        "\n",
        "        loss = criterion(output,label)\n",
        "\n",
        "        optimizer.zero_grad()\n",
        "        \n",
        "        loss.backward()\n",
        "        optimizer.step()\n",
        "\n",
        "        # ------------------\n",
        "        # Record training loss every log_interval and keep counter of total training images seen\n",
        "        if (i+1) % log_interval == 0:    \n",
        "          losses.append(loss.item())\n",
        "          counter.append(\n",
        "              (i * batch_size) + img.size(0) + epoch * len(train_loader.dataset))\n",
        "\n",
        "    return losses, counter, train_num_correct"
      ],
      "execution_count": null,
      "outputs": []
    },
    {
      "cell_type": "markdown",
      "metadata": {
        "id": "FUOj4yDYotbY"
      },
      "source": [
        "Write a method called `test_one_epoch` that evalutes the trained model on the test dataset. Return the average test loss and the number of samples that the model predicts correctly."
      ]
    },
    {
      "cell_type": "code",
      "metadata": {
        "id": "S6CypxxRotbY"
      },
      "source": [
        "def test_one_epoch(test_loader, model, device):\n",
        "    model.eval()\n",
        "    test_loss = 0\n",
        "    test_num_correct = 0\n",
        "    \n",
        "    with torch.no_grad():\n",
        "        for i,(img, label) in enumerate(test_loader):\n",
        "            \n",
        "          img, label = img.to(device), label.to(device)\n",
        "\n",
        "          # ------------------\n",
        "          pred = None # Get index of largest log-probability and use that as prediction\n",
        "\n",
        "          output = model(img)\n",
        "          _,pred_lab = torch.max(output.data,1)\n",
        "          test_num_correct += (pred_lab == label.data).sum()\n",
        "          test_loss += criterion(output, label)\n",
        "\n",
        "    test_loss /= len(test_loader.dataset)\n",
        "    return test_loss, test_num_correct"
      ],
      "execution_count": null,
      "outputs": []
    },
    {
      "cell_type": "markdown",
      "metadata": {
        "id": "7G0FydgIotbY"
      },
      "source": [
        "Train the model using the cell below. Hyperparameters are given."
      ]
    },
    {
      "cell_type": "code",
      "metadata": {
        "scrolled": true,
        "tags": [],
        "colab": {
          "base_uri": "https://localhost:8080/"
        },
        "id": "-WXQrBWUotbY",
        "outputId": "14efedc5-bfb4-473c-8ba7-124b2bec3370"
      },
      "source": [
        "# Hyperparameters\n",
        "lr = 0.01\n",
        "max_epochs=10\n",
        "gamma = 0.95\n",
        "\n",
        "# Recording data\n",
        "log_interval = 100\n",
        "\n",
        "# Instantiate optimizer (model was created in previous cell)\n",
        "optimizer = torch.optim.SGD(model.parameters(), lr=lr)\n",
        "\n",
        "\n",
        "# # using Negative Loss Likelihood - softmax is applied at the output layer \n",
        "criterion = torch.nn.NLLLoss()\n",
        "\n",
        "\n",
        "train_losses = []\n",
        "train_counter = []\n",
        "test_losses = []\n",
        "test_correct = []\n",
        "train_correct = []\n",
        "\n",
        "for epoch in trange(max_epochs, leave=True, desc='Epochs'):\n",
        "    train_loss, counter, x= train_one_epoch(train_loader, model, DEVICE, optimizer, log_interval, epoch)\n",
        "    test_loss,test_num_correct = test_one_epoch(test_loader, model, DEVICE)\n",
        "    tr_loss,train_num_correct = test_one_epoch(train_loader,model,DEVICE)\n",
        "\n",
        "    # Record results\n",
        "    train_losses.extend(train_loss)\n",
        "    train_correct.append(train_num_correct)\n",
        "    train_counter.extend(counter)\n",
        "\n",
        "    test_losses.append(test_loss)\n",
        "    test_correct.append(test_num_correct)\n"
      ],
      "execution_count": null,
      "outputs": [
        {
          "output_type": "stream",
          "name": "stderr",
          "text": [
            "Epochs: 100%|██████████| 10/10 [06:04<00:00, 36.46s/it]\n"
          ]
        }
      ]
    },
    {
      "cell_type": "code",
      "metadata": {
        "colab": {
          "base_uri": "https://localhost:8080/"
        },
        "id": "KafV1hkbqZSH",
        "outputId": "6ae929ad-d732-4b3e-b50d-ac44bebf7b31"
      },
      "source": [
        "print(f\"Train accuracy: {train_correct[-1]/len(train_loader.dataset)}\")\n",
        "print(f\"Test accuracy: {(test_correct)[-1]/(len(test_loader.dataset))}\")"
      ],
      "execution_count": null,
      "outputs": [
        {
          "output_type": "stream",
          "name": "stdout",
          "text": [
            "Train accuracy: 0.9785000085830688\n",
            "Test accuracy: 0.9797000288963318\n"
          ]
        }
      ]
    },
    {
      "cell_type": "code",
      "metadata": {
        "colab": {
          "base_uri": "https://localhost:8080/"
        },
        "id": "isbUaV1kANGx",
        "outputId": "c6dbfb8b-2e9a-44e0-9f3f-e47f82140af4"
      },
      "source": [
        "print(\"Training Cross Entropy loss:\",numpy.average(train_losses))\n",
        "print(\"Testing Cross Entropy loss:\",numpy.average(test_losses))"
      ],
      "execution_count": null,
      "outputs": [
        {
          "output_type": "stream",
          "name": "stdout",
          "text": [
            "Training Cross Entropy loss: 0.1765328852045867\n",
            "Testing Cross Entropy loss: 0.0019718476\n"
          ]
        }
      ]
    },
    {
      "cell_type": "code",
      "metadata": {
        "colab": {
          "base_uri": "https://localhost:8080/",
          "height": 284
        },
        "id": "WHavxhr0uQfP",
        "outputId": "cafa242c-826f-46bd-c8b3-9300532edb12"
      },
      "source": [
        "%matplotlib inline\n",
        "%config InlineBackend.figure_format = 'retina'\n",
        "\n",
        "plt.plot(train_losses, label='Training loss')\n",
        "plt.plot(test_losses, label='Validation loss')\n",
        "plt.legend(frameon=False)"
      ],
      "execution_count": null,
      "outputs": [
        {
          "output_type": "execute_result",
          "data": {
            "text/plain": [
              "<matplotlib.legend.Legend at 0x7f2cdf055710>"
            ]
          },
          "metadata": {},
          "execution_count": 25
        },
        {
          "output_type": "display_data",
          "data": {
            "image/png": "[encoded data removed]",
            "text/plain": [
              "<Figure size 432x288 with 1 Axes>"
            ]
          },
          "metadata": {
            "image/png": {
              "width": 378,
              "height": 248
            },
            "needs_background": "light"
          }
        }
      ]
    },
    {
      "cell_type": "markdown",
      "metadata": {
        "id": "jebIUSkNvZLi"
      },
      "source": [
        "The test accuracy using Feedforward neural network is 96.7% and using CNN is 97.9%. Clearly CNN is giving better accuracy. "
      ]
    },
    {
      "cell_type": "code",
      "metadata": {
        "colab": {
          "base_uri": "https://localhost:8080/"
        },
        "id": "ZSzows_iyBRx",
        "outputId": "294d6a57-11ae-4463-dac5-33a150837cc3"
      },
      "source": [
        "(784*128)+(128*10)+(1*128)+(1*10)"
      ],
      "execution_count": null,
      "outputs": [
        {
          "output_type": "execute_result",
          "data": {
            "text/plain": [
              "101770"
            ]
          },
          "metadata": {},
          "execution_count": 33
        }
      ]
    },
    {
      "cell_type": "code",
      "metadata": {
        "colab": {
          "base_uri": "https://localhost:8080/"
        },
        "id": "bdoCEa2C2ny1",
        "outputId": "9257a9c8-88cd-498c-c19b-345e337171d2"
      },
      "source": [
        "((5* 5* 1)+1)* 10 + ((5* 5* 10)+1)* 20 + (20* 4* 4* 10)+ (1*10)"
      ],
      "execution_count": null,
      "outputs": [
        {
          "output_type": "execute_result",
          "data": {
            "text/plain": [
              "8490"
            ]
          },
          "metadata": {},
          "execution_count": 34
        }
      ]
    },
    {
      "cell_type": "markdown",
      "metadata": {
        "id": "hhHFnn6Ey-Yg"
      },
      "source": [
        "The number of parameters in the feedforward neural network are: 101,770\n",
        "The number of parameters in CNN are: 8,490\n",
        "\n",
        "Feed forward NN:(784X128)+(128X10)+(1X128)+(1X10) = 101,770\n",
        "\n",
        "In a CNN for a conv layer: ((m * n * d)+1)* k), for a pool layer: 0, for a FC layer: (c * p)+1 * c\n",
        "\n",
        "CNN: ((5* 5* 1)+1)* 10 + ((5* 5* 10)+1)* 20 + (20* 4* 4* 10)+ (1*10) = 8,490\n",
        "\n",
        "Clearly, CNN is parameter efficient. \n"
      ]
    }
  ]
}